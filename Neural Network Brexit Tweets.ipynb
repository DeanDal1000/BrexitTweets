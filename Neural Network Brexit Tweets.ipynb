{
 "cells": [
  {
   "cell_type": "code",
   "execution_count": 8,
   "metadata": {},
   "outputs": [
    {
     "name": "stdout",
     "output_type": "stream",
     "text": [
      "Requirement already satisfied: pyserial in ./anaconda2/lib/python2.7/site-packages\n",
      "Requirement already satisfied: tweepy in ./anaconda2/lib/python2.7/site-packages\n",
      "Requirement already satisfied: textblob in ./anaconda2/lib/python2.7/site-packages\n",
      "Requirement already satisfied: nltk in ./anaconda2/lib/python2.7/site-packages\n",
      "Requirement already satisfied: tensorflow in ./anaconda2/lib/python2.7/site-packages\n",
      "Requirement already satisfied: keras in ./anaconda2/lib/python2.7/site-packages\n",
      "Requirement already satisfied: np_utils in ./anaconda2/lib/python2.7/site-packages\n",
      "Requirement already satisfied: requests-oauthlib>=0.7.0 in ./anaconda2/lib/python2.7/site-packages (from tweepy)\n",
      "Requirement already satisfied: six>=1.10.0 in ./anaconda2/lib/python2.7/site-packages (from tweepy)\n",
      "Requirement already satisfied: PySocks>=1.5.7 in ./anaconda2/lib/python2.7/site-packages (from tweepy)\n",
      "Requirement already satisfied: requests>=2.11.1 in ./anaconda2/lib/python2.7/site-packages (from tweepy)\n",
      "Requirement already satisfied: enum34>=1.1.6 in ./anaconda2/lib/python2.7/site-packages (from tensorflow)\n",
      "Requirement already satisfied: keras-preprocessing>=1.0.5 in ./anaconda2/lib/python2.7/site-packages (from tensorflow)\n",
      "Requirement already satisfied: absl-py>=0.1.6 in ./anaconda2/lib/python2.7/site-packages (from tensorflow)\n",
      "Requirement already satisfied: grpcio>=1.8.6 in ./anaconda2/lib/python2.7/site-packages (from tensorflow)\n",
      "Requirement already satisfied: keras-applications>=1.0.6 in ./anaconda2/lib/python2.7/site-packages (from tensorflow)\n",
      "Requirement already satisfied: tensorboard<1.13.0,>=1.12.0 in ./anaconda2/lib/python2.7/site-packages (from tensorflow)\n",
      "Requirement already satisfied: protobuf>=3.6.1 in ./anaconda2/lib/python2.7/site-packages (from tensorflow)\n",
      "Requirement already satisfied: termcolor>=1.1.0 in ./anaconda2/lib/python2.7/site-packages (from tensorflow)\n",
      "Requirement already satisfied: gast>=0.2.0 in ./anaconda2/lib/python2.7/site-packages (from tensorflow)\n",
      "Requirement already satisfied: wheel in ./anaconda2/lib/python2.7/site-packages (from tensorflow)\n",
      "Requirement already satisfied: backports.weakref>=1.0rc1 in ./anaconda2/lib/python2.7/site-packages (from tensorflow)\n",
      "Requirement already satisfied: astor>=0.6.0 in ./anaconda2/lib/python2.7/site-packages (from tensorflow)\n",
      "Requirement already satisfied: mock>=2.0.0 in ./anaconda2/lib/python2.7/site-packages (from tensorflow)\n",
      "Requirement already satisfied: numpy>=1.13.3 in ./anaconda2/lib/python2.7/site-packages (from tensorflow)\n",
      "Requirement already satisfied: pyyaml in ./anaconda2/lib/python2.7/site-packages (from keras)\n",
      "Requirement already satisfied: scipy>=0.14 in ./anaconda2/lib/python2.7/site-packages (from keras)\n",
      "Requirement already satisfied: h5py in ./anaconda2/lib/python2.7/site-packages (from keras)\n",
      "Requirement already satisfied: future>=0.16 in ./anaconda2/lib/python2.7/site-packages (from np_utils)\n",
      "Requirement already satisfied: oauthlib<3.0.0,>=2.1.0 in ./anaconda2/lib/python2.7/site-packages (from requests-oauthlib>=0.7.0->tweepy)\n",
      "Requirement already satisfied: futures>=2.2.0 in ./anaconda2/lib/python2.7/site-packages (from grpcio>=1.8.6->tensorflow)\n",
      "Requirement already satisfied: werkzeug>=0.11.10 in ./anaconda2/lib/python2.7/site-packages (from tensorboard<1.13.0,>=1.12.0->tensorflow)\n",
      "Requirement already satisfied: markdown>=2.6.8 in ./anaconda2/lib/python2.7/site-packages (from tensorboard<1.13.0,>=1.12.0->tensorflow)\n",
      "Requirement already satisfied: setuptools in ./anaconda2/lib/python2.7/site-packages (from protobuf>=3.6.1->tensorflow)\n",
      "Requirement already satisfied: funcsigs>=1; python_version < \"3.3\" in ./anaconda2/lib/python2.7/site-packages (from mock>=2.0.0->tensorflow)\n",
      "Requirement already satisfied: pbr>=0.11 in ./anaconda2/lib/python2.7/site-packages (from mock>=2.0.0->tensorflow)\n"
     ]
    },
    {
     "name": "stderr",
     "output_type": "stream",
     "text": [
      "You are using pip version 9.0.1, however version 18.1 is available.\n",
      "You should consider upgrading via the 'pip install --upgrade pip' command.\n"
     ]
    }
   ],
   "source": [
    "try:\n",
    "    import pyserial\n",
    "except:\n",
    "    import pip\n",
    "    pip.main(['install', 'pyserial', 'tweepy', 'textblob', 'nltk', 'tensorflow', 'keras', 'np_utils'])\n",
    "\n",
    "    \n"
   ]
  },
  {
   "cell_type": "code",
   "execution_count": 18,
   "metadata": {},
   "outputs": [],
   "source": [
    "import numpy as np\n",
    "import pandas as pd\n",
    "from bs4 import BeautifulSoup\n",
    "import matplotlib.pyplot as plt\n",
    "import seaborn as sns\n",
    "\n",
    "import keras\n",
    "from keras.preprocessing.sequence import pad_sequences\n",
    "from keras.models import Sequential\n",
    "from keras.layers import Dense, Dropout, Embedding, LSTM, SpatialDropout1D\n",
    "from keras.callbacks import ModelCheckpoint\n",
    "import os\n",
    "from sklearn.metrics import roc_auc_score\n",
    "import matplotlib.pyplot as plt\n",
    "import re\n",
    "from keras.preprocessing.text import Tokenizer\n",
    "from sklearn.model_selection import train_test_split"
   ]
  },
  {
   "cell_type": "code",
   "execution_count": 20,
   "metadata": {
    "collapsed": true
   },
   "outputs": [],
   "source": [
    "twitter = pd.read_csv('tweets1.csv',sep=',')"
   ]
  },
  {
   "cell_type": "code",
   "execution_count": 21,
   "metadata": {},
   "outputs": [
    {
     "data": {
      "text/html": [
       "<div>\n",
       "<style>\n",
       "    .dataframe thead tr:only-child th {\n",
       "        text-align: right;\n",
       "    }\n",
       "\n",
       "    .dataframe thead th {\n",
       "        text-align: left;\n",
       "    }\n",
       "\n",
       "    .dataframe tbody tr th {\n",
       "        vertical-align: top;\n",
       "    }\n",
       "</style>\n",
       "<table border=\"1\" class=\"dataframe\">\n",
       "  <thead>\n",
       "    <tr style=\"text-align: right;\">\n",
       "      <th></th>\n",
       "      <th>Brexit_Tweet</th>\n",
       "      <th>Opinion</th>\n",
       "    </tr>\n",
       "  </thead>\n",
       "  <tbody>\n",
       "    <tr>\n",
       "      <th>0</th>\n",
       "      <td>RT @Holbornlolz: Corbyn Brexit speech summary:...</td>\n",
       "      <td>Positive</td>\n",
       "    </tr>\n",
       "    <tr>\n",
       "      <th>1</th>\n",
       "      <td>RT @LeaveEUOfficial: WATCH | Nick Ferrari has ...</td>\n",
       "      <td>Positive</td>\n",
       "    </tr>\n",
       "    <tr>\n",
       "      <th>2</th>\n",
       "      <td>@AdamAfriyie @PlanB_earth @friends_earth @NoR3...</td>\n",
       "      <td>Neutral</td>\n",
       "    </tr>\n",
       "    <tr>\n",
       "      <th>3</th>\n",
       "      <td>RT @AngryScotland: The most prominent of the p...</td>\n",
       "      <td>Positive</td>\n",
       "    </tr>\n",
       "    <tr>\n",
       "      <th>4</th>\n",
       "      <td>RT @OFOCBrexit: Watch what happened on #Victor...</td>\n",
       "      <td>Neutral</td>\n",
       "    </tr>\n",
       "  </tbody>\n",
       "</table>\n",
       "</div>"
      ],
      "text/plain": [
       "                                        Brexit_Tweet   Opinion\n",
       "0  RT @Holbornlolz: Corbyn Brexit speech summary:...  Positive\n",
       "1  RT @LeaveEUOfficial: WATCH | Nick Ferrari has ...  Positive\n",
       "2  @AdamAfriyie @PlanB_earth @friends_earth @NoR3...   Neutral\n",
       "3  RT @AngryScotland: The most prominent of the p...  Positive\n",
       "4  RT @OFOCBrexit: Watch what happened on #Victor...   Neutral"
      ]
     },
     "execution_count": 21,
     "metadata": {},
     "output_type": "execute_result"
    }
   ],
   "source": [
    "twitter.head()"
   ]
  },
  {
   "cell_type": "code",
   "execution_count": 23,
   "metadata": {},
   "outputs": [
    {
     "data": {
      "text/plain": [
       "['Brexit_Tweet', 'Opinion']"
      ]
     },
     "execution_count": 23,
     "metadata": {},
     "output_type": "execute_result"
    }
   ],
   "source": [
    "list(twitter.columns.values)"
   ]
  },
  {
   "cell_type": "code",
   "execution_count": 24,
   "metadata": {
    "collapsed": true
   },
   "outputs": [],
   "source": [
    "data = twitter[['Brexit_Tweet', 'Opinion']]"
   ]
  },
  {
   "cell_type": "code",
   "execution_count": 25,
   "metadata": {},
   "outputs": [
    {
     "name": "stdout",
     "output_type": "stream",
     "text": [
      "2904\n",
      "1522\n"
     ]
    }
   ],
   "source": [
    "data = data[data.Opinion !=\"Neutral\"]\n",
    "data['Brexit_Tweet'] = data['Brexit_Tweet'].apply(lambda x: x.lower())\n",
    "data['Brexit_Tweet'] = data['Brexit_Tweet'].apply((lambda x: re.sub('[^a-zA-z0-9\\s]','',x)))\n",
    "print(data[ data['Opinion'] == 'Positive'].size)\n",
    "print(data[ data['Opinion'] == 'Negative'].size)"
   ]
  },
  {
   "cell_type": "code",
   "execution_count": 28,
   "metadata": {
    "collapsed": true
   },
   "outputs": [],
   "source": [
    "max_features = 2000\n",
    "tokenizer = Tokenizer(num_words=max_fatures, split=' ')\n",
    "tokenizer.fit_on_texts(data['Opinion'].values)\n",
    "X = tokenizer.texts_to_sequences(data['Opinion'].values)\n",
    "X = pad_sequences(X)"
   ]
  },
  {
   "cell_type": "code",
   "execution_count": 51,
   "metadata": {},
   "outputs": [
    {
     "name": "stdout",
     "output_type": "stream",
     "text": [
      "_________________________________________________________________\n",
      "Layer (type)                 Output Shape              Param #   \n",
      "=================================================================\n",
      "embedding_8 (Embedding)      (None, 1, 100)            200000    \n",
      "_________________________________________________________________\n",
      "dropout_8 (Dropout)          (None, 1, 100)            0         \n",
      "_________________________________________________________________\n",
      "lstm_8 (LSTM)                (None, 150)               150600    \n",
      "_________________________________________________________________\n",
      "dense_8 (Dense)              (None, 2)                 302       \n",
      "=================================================================\n",
      "Total params: 350,902\n",
      "Trainable params: 350,902\n",
      "Non-trainable params: 0\n",
      "_________________________________________________________________\n",
      "None\n"
     ]
    }
   ],
   "source": [
    "embed_dim = 100\n",
    "lstm_out = 150\n",
    "model = Sequential()\n",
    "model.add(Embedding(max_fatures, embed_dim,input_length = X.shape[1]))\n",
    "model.add(Dropout(0.5))\n",
    "model.add(LSTM(lstm_out, dropout=0.2, recurrent_dropout=0.2))\n",
    "model.add(Dense(2,activation='softmax'))\n",
    "model.compile(loss = 'categorical_crossentropy', optimizer='adam',metrics = ['accuracy'])\n",
    "print(model.summary())"
   ]
  },
  {
   "cell_type": "code",
   "execution_count": 52,
   "metadata": {},
   "outputs": [
    {
     "name": "stdout",
     "output_type": "stream",
     "text": [
      "((1549, 1), (1549, 2))\n",
      "((664, 1), (664, 2))\n"
     ]
    }
   ],
   "source": [
    "Y = pd.get_dummies(data['Opinion']).values\n",
    "X_train, X_test, Y_train, Y_test = train_test_split(X,Y, test_size = 0.3, random_state = 42)\n",
    "print(X_train.shape,Y_train.shape)\n",
    "print(X_test.shape,Y_test.shape)"
   ]
  },
  {
   "cell_type": "code",
   "execution_count": 53,
   "metadata": {
    "collapsed": true
   },
   "outputs": [],
   "source": [
    "X_val = X_train[:500]\n",
    "Y_val = Y_train[:500]"
   ]
  },
  {
   "cell_type": "code",
   "execution_count": 54,
   "metadata": {
    "collapsed": true
   },
   "outputs": [],
   "source": [
    "partial_X_train = X_train[500:]\n",
    "partial_Y_train = Y_train[500:]"
   ]
  },
  {
   "cell_type": "code",
   "execution_count": 55,
   "metadata": {},
   "outputs": [
    {
     "name": "stdout",
     "output_type": "stream",
     "text": [
      "Train on 1049 samples, validate on 500 samples\n",
      "Epoch 1/10\n",
      "1049/1049 [==============================] - 1s 1ms/step - loss: 0.6239 - acc: 0.7502 - val_loss: 0.5188 - val_acc: 1.0000\n",
      "Epoch 2/10\n",
      "1049/1049 [==============================] - 0s 235us/step - loss: 0.3382 - acc: 0.9990 - val_loss: 0.1576 - val_acc: 1.0000\n",
      "Epoch 3/10\n",
      "1049/1049 [==============================] - 0s 244us/step - loss: 0.0721 - acc: 1.0000 - val_loss: 0.0250 - val_acc: 1.0000\n",
      "Epoch 4/10\n",
      "1049/1049 [==============================] - 0s 245us/step - loss: 0.0148 - acc: 1.0000 - val_loss: 0.0070 - val_acc: 1.0000\n",
      "Epoch 5/10\n",
      "1049/1049 [==============================] - 0s 257us/step - loss: 0.0058 - acc: 1.0000 - val_loss: 0.0036 - val_acc: 1.0000\n",
      "Epoch 6/10\n",
      "1049/1049 [==============================] - 0s 240us/step - loss: 0.0035 - acc: 1.0000 - val_loss: 0.0023 - val_acc: 1.0000\n",
      "Epoch 7/10\n",
      "1049/1049 [==============================] - 0s 246us/step - loss: 0.0025 - acc: 1.0000 - val_loss: 0.0017 - val_acc: 1.0000\n",
      "Epoch 8/10\n",
      "1049/1049 [==============================] - 0s 241us/step - loss: 0.0020 - acc: 1.0000 - val_loss: 0.0013 - val_acc: 1.0000\n",
      "Epoch 9/10\n",
      "1049/1049 [==============================] - 0s 249us/step - loss: 0.0016 - acc: 1.0000 - val_loss: 0.0010 - val_acc: 1.0000\n",
      "Epoch 10/10\n",
      "1049/1049 [==============================] - 0s 256us/step - loss: 0.0013 - acc: 1.0000 - val_loss: 8.4364e-04 - val_acc: 1.0000\n"
     ]
    }
   ],
   "source": [
    "batch_size = 50\n",
    "history = model.fit(partial_X_train, \n",
    "                    partial_Y_train, \n",
    "                    epochs = 10, \n",
    "                    batch_size=batch_size, \n",
    "                    validation_data=(X_val, Y_val))"
   ]
  },
  {
   "cell_type": "code",
   "execution_count": 56,
   "metadata": {},
   "outputs": [
    {
     "data": {
      "image/png": "[encoded data removed]",
      "text/plain": [
       "<matplotlib.figure.Figure at 0x7f7dacce39d0>"
      ]
     },
     "metadata": {},
     "output_type": "display_data"
    }
   ],
   "source": [
    "import matplotlib.pyplot as plt\n",
    "loss = history.history['loss']\n",
    "val_loss = history.history['val_loss']\n",
    "epochs = range(1, len(loss) + 1)\n",
    "plt.plot(epochs, loss, 'bo', label='Training loss')\n",
    "plt.plot(epochs, val_loss, 'b', label='Validation loss')\n",
    "plt.title('Training and validation loss')\n",
    "plt.xlabel('Epochs')\n",
    "plt.ylabel('Loss')\n",
    "plt.legend()\n",
    "plt.show()"
   ]
  },
  {
   "cell_type": "code",
   "execution_count": 57,
   "metadata": {},
   "outputs": [
    {
     "data": {
      "image/png": "[encoded data removed]",
      "text/plain": [
       "<matplotlib.figure.Figure at 0x7f7dacc0b6d0>"
      ]
     },
     "metadata": {},
     "output_type": "display_data"
    }
   ],
   "source": [
    "plt.clf()\n",
    "acc = history.history['acc']\n",
    "val_acc = history.history['val_acc']\n",
    "plt.plot(epochs, acc, 'bo', label='Training acc')\n",
    "plt.plot(epochs, val_acc, 'b', label='Validation acc')\n",
    "plt.title('Training and validation accuracy')\n",
    "plt.xlabel('Epochs')\n",
    "plt.ylabel('Accuracy')\n",
    "plt.legend()\n",
    "plt.show()"
   ]
  },
  {
   "cell_type": "code",
   "execution_count": 58,
   "metadata": {},
   "outputs": [
    {
     "name": "stdout",
     "output_type": "stream",
     "text": [
      "('pos_acc', 100, '%')\n",
      "('neg_acc', 100, '%')\n"
     ]
    }
   ],
   "source": [
    "pos_cnt, neg_cnt, pos_correct, neg_correct = 0, 0, 0, 0\n",
    "for x in range(len(X_val)):\n",
    "    \n",
    "    result = model.predict(X_val[x].reshape(1,X_test.shape[1]),batch_size=1,verbose = 2)[0]\n",
    "   \n",
    "    if np.argmax(result) == np.argmax(Y_val[x]):\n",
    "        if np.argmax(Y_val[x]) == 0:\n",
    "            neg_correct += 1\n",
    "        else:\n",
    "            pos_correct += 1\n",
    "       \n",
    "    if np.argmax(Y_val[x]) == 0:\n",
    "        neg_cnt += 1\n",
    "    else:\n",
    "        pos_cnt += 1\n",
    "print(\"pos_acc\", pos_correct/pos_cnt*100, \"%\")\n",
    "print(\"neg_acc\", neg_correct/neg_cnt*100, \"%\")"
   ]
  },
  {
   "cell_type": "code",
   "execution_count": null,
   "metadata": {
    "collapsed": true
   },
   "outputs": [],
   "source": []
  },
  {
   "cell_type": "code",
   "execution_count": null,
   "metadata": {
    "collapsed": true
   },
   "outputs": [],
   "source": []
  }
 ],
 "metadata": {
  "kernelspec": {
   "display_name": "Python 3",
   "language": "python",
   "name": "python3"
  },
  "language_info": {
   "codemirror_mode": {
    "name": "ipython",
    "version": 3
   },
   "file_extension": ".py",
   "mimetype": "text/x-python",
   "name": "python",
   "nbconvert_exporter": "python",
   "pygments_lexer": "ipython3",
   "version": "3.7.4"
  }
 },
 "nbformat": 4,
 "nbformat_minor": 2
}
